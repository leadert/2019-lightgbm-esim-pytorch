{
 "cells": [
  {
   "cell_type": "code",
   "execution_count": null,
   "metadata": {},
   "outputs": [],
   "source": [
    "from random import random\n",
    "\n",
    "sentences=[]\n",
    "f = open(\"/home/kesci/input/bytedance/train_final.csv\")\n",
    "for line in f:\n",
    "    line = line.strip().split(\",\")\n",
    "    if random()<0.1:\n",
    "        sentences.append(line[1])\n",
    "        sentences.append(line[3])\n",
    "f.close()\n",
    "\n",
    "f=open(\"/home/kesci/input/bytedance/bytedance_contest.final_2.csv\")\n",
    "for line in f:\n",
    "    line = line.strip().split(\",\")\n",
    "    sentences.append(line[1])\n",
    "    sentences.append(line[3])\n",
    "f.close()"
   ]
  },
  {
   "cell_type": "code",
   "execution_count": null,
   "metadata": {},
   "outputs": [],
   "source": [
    "# 构建word_index\n",
    "words_index = {}\n",
    "for sentence in sentences:\n",
    "    for word in sentence.split():\n",
    "        words_index.setdefault(word,0)\n",
    "        words_index[word] += 1\n",
    "\n",
    "new_words_index = sorted(words_index.items(), key=lambda item:item[1], reverse=True)   # 降序排列"
   ]
  },
  {
   "cell_type": "code",
   "execution_count": null,
   "metadata": {},
   "outputs": [],
   "source": [
    "# word_index存入文件\n",
    "idx=1\n",
    "word_count=0\n",
    "f=open(\"nn_words_index.txt\",\"w\")\n",
    "for pairs in new_words_index:\n",
    "    if pairs[1] >= 4:             # 词频数，大于4的都要\n",
    "        word_count += 1\n",
    "        f.write(pairs[0]+\" \"+str(idx)+\"\\n\")\n",
    "        idx += 1\n",
    "print(word_count)\n",
    "f.close()"
   ]
  },
  {
   "cell_type": "code",
   "execution_count": null,
   "metadata": {},
   "outputs": [],
   "source": [
    "# sentence写入文件，用于训练词向量\n",
    "import time\n",
    "import os\n",
    "from gensim.models import Word2Vec\n",
    "import gensim\n",
    "import csv\n",
    "\n",
    "def data_to_sentence():\n",
    "    if not os.path.exists(\"nn_sentences\"):\n",
    "        f = open(\"nn_sentences\", \"w\")\n",
    "        f.close()\n",
    "\n",
    "    with open(\"nn_sentences\", \"w\") as f:\n",
    "        for s in sentences:\n",
    "            s = s.replace(\"\\t\", \"\")\n",
    "            f.write(s + \"\\n\")\n",
    "    f.close()\n",
    "\n",
    "    print(\"Writing sentence Successful!\")\n",
    "data_to_sentence()"
   ]
  },
  {
   "cell_type": "code",
   "execution_count": null,
   "metadata": {},
   "outputs": [],
   "source": [
    "from gensim.models import FastText\n",
    "import gensim\n",
    "import time\n",
    "\n",
    "model = FastText(min_count=4, window=5, size=150, workers=4)\n",
    "model.build_vocab(corpus_file=\"nn_sentences\")\n",
    "model.train(corpus_file=\"nn_sentences\", total_words=model.corpus_total_words,\n",
    "            epochs=5, compute_loss=True)\n",
    "model.save(\"fasttext.model\")"
   ]
  }
 ],
 "metadata": {
  "kernelspec": {
   "display_name": "Python 3",
   "language": "python",
   "name": "python3"
  },
  "language_info": {
   "codemirror_mode": {
    "name": "ipython",
    "version": 3
   },
   "file_extension": ".py",
   "mimetype": "text/x-python",
   "name": "python",
   "nbconvert_exporter": "python",
   "pygments_lexer": "ipython3",
   "version": "3.6.5"
  }
 },
 "nbformat": 4,
 "nbformat_minor": 2
}
